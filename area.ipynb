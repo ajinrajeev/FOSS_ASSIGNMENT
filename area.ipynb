{
 "cells": [
  {
   "cell_type": "code",
   "execution_count": 8,
   "metadata": {},
   "outputs": [
    {
     "name": "stdout",
     "output_type": "stream",
     "text": [
      "maximum area is  49 for heights [8, 7]\n"
     ]
    }
   ],
   "source": [
    "height=[1,8,6,2,5,4,8,3,7]\n",
    "A=[]\n",
    "C=[]\n",
    "for i in range(len(height)):\n",
    "    for j in range(len(height)):\n",
    "        h=min(height[i],height[j])\n",
    "        area=h*abs(j-i)\n",
    "        if i<j:\n",
    "            s=[height[i],height[j]]\n",
    "        else:\n",
    "            s=[height[j],height[i]]\n",
    "        \n",
    "        C.append(s)\n",
    "            \n",
    "        A.append(area)\n",
    "max_area=0\n",
    "for k in range(len(A)):\n",
    "    if max_area<=A[k]:\n",
    "        max_area=A[k]\n",
    "for n in range(len(C)):\n",
    "    if max_area==A[n]:\n",
    "        M=C[n]\n",
    "print(\"maximum area is \",max_area,\"for heights\",M)\n"
   ]
  },
  {
   "cell_type": "code",
   "execution_count": null,
   "metadata": {},
   "outputs": [],
   "source": []
  }
 ],
 "metadata": {
  "kernelspec": {
   "display_name": "Python 3",
   "language": "python",
   "name": "python3"
  },
  "language_info": {
   "codemirror_mode": {
    "name": "ipython",
    "version": 3
   },
   "file_extension": ".py",
   "mimetype": "text/x-python",
   "name": "python",
   "nbconvert_exporter": "python",
   "pygments_lexer": "ipython3",
   "version": "3.10.12"
  }
 },
 "nbformat": 4,
 "nbformat_minor": 2
}
